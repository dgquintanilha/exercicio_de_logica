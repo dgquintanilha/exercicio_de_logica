{
  "nbformat": 4,
  "nbformat_minor": 0,
  "metadata": {
    "colab": {
      "provenance": [],
      "authorship_tag": "ABX9TyP/dbD7x1TIpubtd+/KK7UM",
      "include_colab_link": true
    },
    "kernelspec": {
      "name": "python3",
      "display_name": "Python 3"
    },
    "language_info": {
      "name": "python"
    }
  },
  "cells": [
    {
      "cell_type": "markdown",
      "metadata": {
        "id": "view-in-github",
        "colab_type": "text"
      },
      "source": [
        "<a href=\"https://colab.research.google.com/github/dgquintanilha/exercicio_de_logica/blob/main/Untitled12.ipynb\" target=\"_parent\"><img src=\"https://colab.research.google.com/assets/colab-badge.svg\" alt=\"Open In Colab\"/></a>"
      ]
    },
    {
      "cell_type": "code",
      "execution_count": null,
      "metadata": {
        "id": "yMkoZM7_LEpi"
      },
      "outputs": [],
      "source": [
        "# Desenvolva um código que utilize as seguintes características de um veículo:\n",
        "# - Quantidade de rodas;\n",
        "# - Peso bruto em quilogramas;\n",
        "# - Quantidade de pessoas no veículo.\n",
        "\n",
        "# Com essas informações, o programa mostrará qual é a melhor categoria de habilitação para o veículo informado a partir das condições:\n",
        "# A: Veículos com duas ou três rodas;\n",
        "# B: Veículos com quatro rodas, que acomodam até oito pessoas e seu peso é de até 3500 kg;\n",
        "# C: Veículos com quatro rodas ou mais e com peso entre 3500 e 6000 kg;\n",
        "# D: Veículos com quatro rodas ou mais e que acomodam mais de oito pessoas; E: Veículos com quatro rodas ou mais e com mais de 6000 kg.\n",
        "\n",
        "quantidade_rodas = int(input(\"Digite a quantidade de rodas do veículo: \"))\n",
        "peso_bruto = float(input(\"Digite o peso bruto em quilogramas do veículo: \"))\n",
        "quantidade_pessoas = int(input(\"Digite a quantidade de pessoas no veículo: \"))\n",
        "\n",
        "if quantidade_rodas == 2 or quantidade_rodas == 3:\n",
        "    print(\"Categoria A\")\n",
        "elif quantidade_rodas == 4 and quantidade_pessoas <= 8 and peso_bruto <= 3500:\n",
        "    print(\"Categoria B\")\n",
        "elif quantidade_rodas >= 4 and 3500 <= peso_bruto <= 6000:\n",
        "    print(\"Categoria C\")\n",
        "elif quantidade_rodas >= 4 and quantidade_pessoas > 8:\n",
        "    print(\"Categoria D\")\n",
        "elif quantidade_rodas >= 4 and peso_bruto > 6000:\n",
        "    print(\"Categoria E\")"
      ]
    }
  ]
}